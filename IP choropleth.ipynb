{
 "cells": [
  {
   "cell_type": "markdown",
   "id": "ebf523c5-8f08-440c-b300-cad7a29f343a",
   "metadata": {},
   "source": [
    "## IP choropleth\n",
    "\n",
    "This notebook easily renders a list of IP addresses on a choropleth map using either plotly or folium.\n",
    "\n",
    "### Local run\n",
    "\n",
    "In order to run this notebook locally, download this notebook on your workstation, execute the following commands in your terminal:\n",
    "\n",
    "```shell\n",
    "mkdir /tmp/notebooks\n",
    "cd /tmp/notebooks\n",
    "wget \"https://raw.githubusercontent.com/udgover/notebooks/main/IP%20choropleth.ipynb\"\n",
    "pip install jupyterlab\n",
    "jupyter lab\n",
    "```\n",
    "\n",
    "Then connect to http://localhost:8888/ and double click on this notebook.\n",
    "\n",
    "### No install\n",
    "\n",
    "[![Binder](https://mybinder.org/badge_logo.svg)](https://mybinder.org/v2/gh/udgover/notebooks.git/HEAD)\n",
    "\n",
    "### Requirements\n",
    "\n",
    "At first, you need to install some dependencies "
   ]
  },
  {
   "cell_type": "code",
   "execution_count": null,
   "id": "fe1789bd-ccce-4ac4-a254-9f37dcc3f0e3",
   "metadata": {
    "scrolled": true
   },
   "outputs": [],
   "source": [
    "%pip install -U plotly maxminddb requests pandas folium"
   ]
  },
  {
   "cell_type": "markdown",
   "id": "cb6aab67-742c-42c6-b6ce-74003652825c",
   "metadata": {},
   "source": [
    "Then we will import needed packages"
   ]
  },
  {
   "cell_type": "code",
   "execution_count": null,
   "id": "fdc02270-4209-43d7-befc-669d9cec7dc6",
   "metadata": {},
   "outputs": [],
   "source": [
    "import io\n",
    "import json\n",
    "import logging\n",
    "import os\n",
    "\n",
    "import folium\n",
    "import maxminddb\n",
    "import pandas as pd\n",
    "import plotly.express as px\n",
    "import requests"
   ]
  },
  {
   "cell_type": "markdown",
   "id": "8cb5486b-3f8a-48d4-9320-9fbe93ab07c7",
   "metadata": {},
   "source": [
    "## Geolocating your IPs\n",
    "\n",
    "In order to render IP addresses on a map, we need to find the geolocation of an IP address. There are several ways to get this information from an IP address, either from online services through API or thanks to free and open-source maxmind databases.\n",
    "\n",
    "This notebook relies on [CIRCL GeoOpen database](https://data.public.lu/en/datasets/geo-open-ip-address-geolocation-per-country-in-mmdb-format/) which is freely available and regurlaly updated. This database has a country level resolution. In order to map an IP address with plotly, we also need to provide three-letter ISO country codes which are also provided by CIRCL. "
   ]
  },
  {
   "cell_type": "code",
   "execution_count": null,
   "id": "f647d323-f5aa-4f0c-9d37-6b68bae3f581",
   "metadata": {},
   "outputs": [],
   "source": [
    "def load_geoip_data(with_asn=True, force_download=False):\n",
    "    if with_asn:\n",
    "        db_name = \"mmdb-country-asn\"\n",
    "    else:\n",
    "        db_name = \"mmdb-country\"\n",
    "    db_file = f\"{db_name}-latest.mmdb\"\n",
    "    if not os.path.exists(db_file) or force_download:\n",
    "        url = f\"https://cra.circl.lu/opendata/geo-open/{db_name}/latest.mmdb\"\n",
    "        response = requests.get(url)\n",
    "        with open(db_file, \"wb\") as f:\n",
    "            f.write(response.content)\n",
    "    if not os.path.exists(\"country.json\"):\n",
    "        response = requests.get(\"https://raw.githubusercontent.com/adulau/mmdb-server/main/db/country.json\")\n",
    "        with open(\"country.json\", \"w\") as f:\n",
    "            f.write(response.text)\n",
    "    with open(\"country.json\") as f:\n",
    "        countries = json.load(f)\n",
    "    db = maxminddb.open_database(db_file, maxminddb.MODE_MEMORY)\n",
    "    return countries, db\n",
    "\n",
    "countries, db = load_geoip_data()\n",
    "\n",
    "def ip_info(ip):\n",
    "    entry = db.get(ip)['country']\n",
    "    iso_code = entry['iso_code']\n",
    "    if iso_code in ['None', 'Unknown']:\n",
    "        logging.warning(f\"{ip} not found in database\")\n",
    "        return\n",
    "    country = countries.get(iso_code, {}).get(\"Alpha-3 code\")\n",
    "    if not country:\n",
    "        logging.warning(f\"{ip}: {iso_code} can't be mapped to three-letters code\")\n",
    "        return\n",
    "    as_number = entry.get('AutonomousSystemNumber', '')\n",
    "    as_ou = entry.get('AutonomousSystemOrganization', '')\n",
    "    return iso_code, country, as_number, as_ou"
   ]
  },
  {
   "cell_type": "markdown",
   "id": "cec84da4-13a9-49a4-a9aa-9566a4faa2ec",
   "metadata": {},
   "source": [
    "## Loading IPs and adding geolocation\n",
    "\n",
    "Now, let's get IP addresses we want to map by using pandas dataframe with csv file.\n",
    "\n",
    "The following function is very generic and is provided as an example. By default, this function interprets the provided file (path or stream) as a flat list of IP addresses, one per line.\n",
    "\n",
    "If you want to parse a csv with several columns, your csv must start with a header and you have to set ip_column to the name of the column containing IP addresses."
   ]
  },
  {
   "cell_type": "code",
   "execution_count": null,
   "id": "0e230dfc-0024-4c1f-b058-8f97b8870207",
   "metadata": {},
   "outputs": [],
   "source": [
    "def geoloc(csv_file, ip_column=None):\n",
    "    if ip_column:\n",
    "        df = pd.read_csv(csv_file)\n",
    "    else:\n",
    "        ip_column = 'ip'\n",
    "        df = pd.read_csv(csv_file, names=[ip_column])\n",
    "    df[['iso_code', 'country', 'as_number', 'as_ou']] = df.apply(lambda x: ip_info(x[ip_column]), result_type='expand', axis='columns')\n",
    "    return df"
   ]
  },
  {
   "cell_type": "code",
   "execution_count": null,
   "id": "1685b31e-80bb-45db-a442-4078ce424459",
   "metadata": {},
   "outputs": [],
   "source": [
    "ssh_ips = io.StringIO(requests.get('https://lists.blocklist.de/lists/ssh.txt').text)\n",
    "df = geoloc(ssh_ips)"
   ]
  },
  {
   "cell_type": "markdown",
   "id": "1c523464-9bde-49a6-b254-5874a5123141",
   "metadata": {},
   "source": [
    "Let's display the content of our dataframe"
   ]
  },
  {
   "cell_type": "code",
   "execution_count": null,
   "id": "27ee1fe0-2fa9-403b-aa60-5e5268b216ed",
   "metadata": {},
   "outputs": [],
   "source": [
    "df"
   ]
  },
  {
   "cell_type": "markdown",
   "id": "a90dd6ad-bc89-4e25-a69e-0ccd5ed69daa",
   "metadata": {},
   "source": [
    "## Map!\n",
    "\n",
    "### Plotly\n",
    "\n",
    "We can now generate choropleth map from our dataframe."
   ]
  },
  {
   "cell_type": "code",
   "execution_count": null,
   "id": "0efaf4da-3329-42c3-8184-4f67c1b85ee3",
   "metadata": {},
   "outputs": [],
   "source": [
    "def plotly_map(df):\n",
    "    df = df.groupby(\"country\", as_index=False).count()\n",
    "    fig = px.choropleth(df, locations=\"country\",\n",
    "                        color=\"ip\",\n",
    "                        hover_name=\"country\",\n",
    "                        color_continuous_scale=\"Viridis\",)\n",
    "    fig.update_layout(margin={\"r\":0,\"t\":0,\"l\":0,\"b\":0})\n",
    "    fig.update_layout(\n",
    "        autosize=False,\n",
    "        width=1200,\n",
    "        height=600,\n",
    "    )\n",
    "    fig.show()"
   ]
  },
  {
   "cell_type": "code",
   "execution_count": null,
   "id": "fa0a5cb2-049c-4271-a952-9d4ddd3e6179",
   "metadata": {},
   "outputs": [],
   "source": [
    "# if the map does not show, ctrl+shift+r\n",
    "plotly_map(df)"
   ]
  },
  {
   "cell_type": "markdown",
   "id": "0de699b2-400e-482d-891c-90f71d3dc54d",
   "metadata": {},
   "source": [
    "### Folium"
   ]
  },
  {
   "cell_type": "code",
   "execution_count": null,
   "id": "14441181-81bb-40ca-a212-72bf752ba74a",
   "metadata": {},
   "outputs": [],
   "source": [
    "def folium_map(df):\n",
    "    world_geo = requests.get(\"https://raw.githubusercontent.com/python-visualization/folium/main/examples/data/world-countries.json\").json()\n",
    "    m = folium.Map(zoom_start=2, tiles=\"CartoDB Positron\")    \n",
    "    df = df.groupby(\"country\", as_index=False).count()\n",
    "    folium.Choropleth(\n",
    "        geo_data=world_geo,\n",
    "        name=\"choropleth\",\n",
    "        data=df,\n",
    "        columns=[\"country\", \"ip\"],\n",
    "        key_on=\"feature.id\",\n",
    "        fill_color=\"YlGn\",\n",
    "        fill_opacity=0.7,\n",
    "        line_opacity=0.2,\n",
    "        legend_name=\"IP\",\n",
    "    ).add_to(m)    \n",
    "    folium.LayerControl().add_to(m)\n",
    "    display(m)"
   ]
  },
  {
   "cell_type": "code",
   "execution_count": null,
   "id": "327aa737-a95c-4a06-a030-4c239ebea26e",
   "metadata": {},
   "outputs": [],
   "source": [
    "folium_map(df)"
   ]
  }
 ],
 "metadata": {
  "kernelspec": {
   "display_name": "Python 3 (ipykernel)",
   "language": "python",
   "name": "python3"
  },
  "language_info": {
   "codemirror_mode": {
    "name": "ipython",
    "version": 3
   },
   "file_extension": ".py",
   "mimetype": "text/x-python",
   "name": "python",
   "nbconvert_exporter": "python",
   "pygments_lexer": "ipython3",
   "version": "3.12.0"
  }
 },
 "nbformat": 4,
 "nbformat_minor": 5
}
